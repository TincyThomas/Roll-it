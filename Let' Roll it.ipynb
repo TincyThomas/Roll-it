{
 "cells": [
  {
   "cell_type": "code",
   "execution_count": 16,
   "metadata": {},
   "outputs": [
    {
     "name": "stdout",
     "output_type": "stream",
     "text": [
      "                       Let's Roll Everything!\n",
      "\n",
      "\n",
      "RULES \n",
      " 1. For rolling a dice type 'D' beneath. \n",
      " 2. For getting random letters type 'L' beneath. \n",
      " 3. For tossing coin type 'C' beneath.\n"
     ]
    }
   ],
   "source": [
    "import random\n",
    "def dice():\n",
    "    print(random.randint(1,6))\n",
    "def letter():\n",
    "    print(random.choice('ABCDEFGHIJKLMNOPQRSTUVWXYZ'))\n",
    "def coin():\n",
    "    print(random.choice('HT'))\n",
    "print(f\"                       Let's Roll Everything!\\n\\n\")\n",
    "print(\"RULES \\n 1. For rolling a dice type 'D' beneath. \\n 2. For getting random letters type 'L' beneath. \\n 3. For tossing coin type 'C' beneath.\")"
   ]
  },
  {
   "cell_type": "code",
   "execution_count": null,
   "metadata": {},
   "outputs": [],
   "source": [
    "a = input('What do you wanna roll? \\n')\n",
    "a = a.upper()\n",
    "if a == 'D':\n",
    "    dice()\n",
    "elif a == 'LETTER':\n",
    "    letter()\n",
    "elif a == 'COIN': \n",
    "    coin()\n",
    "else:\n",
    "    print(\"Entered wrong Input, Try Again!\\n Either DIE, LETTER or COIN\")"
   ]
  },
  {
   "cell_type": "code",
   "execution_count": null,
   "metadata": {},
   "outputs": [],
   "source": []
  }
 ],
 "metadata": {
  "kernelspec": {
   "display_name": "Python 3",
   "language": "python",
   "name": "python3"
  },
  "language_info": {
   "codemirror_mode": {
    "name": "ipython",
    "version": 3
   },
   "file_extension": ".py",
   "mimetype": "text/x-python",
   "name": "python",
   "nbconvert_exporter": "python",
   "pygments_lexer": "ipython3",
   "version": "3.7.6"
  }
 },
 "nbformat": 4,
 "nbformat_minor": 4
}
